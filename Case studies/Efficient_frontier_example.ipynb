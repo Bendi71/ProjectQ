{
 "cells": [
  {
   "cell_type": "code",
   "execution_count": 1,
   "id": "initial_id",
   "metadata": {
    "ExecuteTime": {
     "end_time": "2024-08-06T15:20:20.478619Z",
     "start_time": "2024-08-06T15:20:17.411047100Z"
    },
    "collapsed": true,
    "jupyter": {
     "outputs_hidden": true
    }
   },
   "outputs": [],
   "source": [
    "import yfinance as yf\n",
    "import numpy as np\n",
    "import pandas as pd\n",
    "import matplotlib.pyplot as plt\n",
    "from scipy.optimize import minimize as scmin"
   ]
  },
  {
   "cell_type": "code",
   "execution_count": 2,
   "id": "82032118c6b71338",
   "metadata": {
    "ExecuteTime": {
     "end_time": "2024-08-06T15:20:46.431390300Z",
     "start_time": "2024-08-06T15:20:38.601402300Z"
    },
    "collapsed": false,
    "jupyter": {
     "outputs_hidden": false
    }
   },
   "outputs": [],
   "source": [
    "# Make a portfolio from MSFT TSLA with random weights\n",
    "stocks = input('Ticker: ').split()  # Input is tickers of stocks\n",
    "weights = np.array(input('Weights: ').split(), dtype=float)  # You can type in weights based on your portfolio\n",
    "if weights.size == 0:\n",
    "    weights = np.random.random(len(stocks))  # Or you can continue with random weights\n",
    "    weights /= np.sum(weights)\n",
    "    weights = np.around(weights, 2)"
   ]
  },
  {
   "cell_type": "code",
   "execution_count": 3,
   "id": "af2afbbf9ab5474b",
   "metadata": {
    "ExecuteTime": {
     "end_time": "2024-08-06T15:21:27.700696500Z",
     "start_time": "2024-08-06T15:21:25.856262600Z"
    },
    "collapsed": false,
    "jupyter": {
     "outputs_hidden": false
    }
   },
   "outputs": [
    {
     "name": "stdout",
     "output_type": "stream",
     "text": [
      "[*********************100%***********************]  2 of 2 completed\n"
     ]
    },
    {
     "name": "stderr",
     "output_type": "stream",
     "text": [
      "C:\\Users\\Pinter Andrea\\AppData\\Local\\Programs\\Python\\Python310\\lib\\site-packages\\pandas\\core\\arraylike.py:405: RuntimeWarning: invalid value encountered in log\n",
      "  result = getattr(ufunc, method)(*inputs, **kwargs)\n"
     ]
    },
    {
     "data": {
      "text/plain": [
       "(MSFT    0.000827\n",
       " TSLA   -0.000993\n",
       " dtype: float64,\n",
       "          MSFT      TSLA\n",
       " MSFT  0.00016  0.000120\n",
       " TSLA  0.00012  0.001157)"
      ]
     },
     "execution_count": 3,
     "metadata": {},
     "output_type": "execute_result"
    }
   ],
   "source": [
    "def GetData(stock, time):  # Downloads historical stock prices from yahoofinance and does basic statistical calculations\n",
    "    hist = yf.download(tickers=stock, period=time, interval='1d', auto_adjust=True, ignore_tz=True)['Close']\n",
    "    dailyreturns = np.log(hist / hist.shift(1)).dropna()  # Daily log returns\n",
    "    meanreturn = dailyreturns.mean()\n",
    "    covmatrix = dailyreturns.cov()  # Covariance matrix\n",
    "    Returns = np.log((hist.tail(1).iloc[0] - hist.head(1).iloc[0]) / hist.head(1).iloc[0])  # Return of the stocks from\n",
    "    return meanreturn, covmatrix  # Output is an array of arrays\n",
    "\n",
    "oneyeardata = GetData(stocks, '1y')\n",
    "meanreturn = oneyeardata[0]\n",
    "covmatrix = oneyeardata[1]\n",
    "\n",
    "meanreturn, covmatrix"
   ]
  },
  {
   "cell_type": "code",
   "execution_count": 4,
   "id": "54a85bb27fec3db4",
   "metadata": {
    "ExecuteTime": {
     "end_time": "2024-08-06T15:22:46.889918400Z",
     "start_time": "2024-08-06T15:22:46.827426400Z"
    },
    "collapsed": false,
    "jupyter": {
     "outputs_hidden": false
    }
   },
   "outputs": [
    {
     "data": {
      "text/plain": [
       "(-0.02089909072940345, 0.31324622133214414)"
      ]
     },
     "execution_count": 4,
     "metadata": {},
     "output_type": "execute_result"
    }
   ],
   "source": [
    "def PortPerformance(weights, returns, covmatrix):  # Calculates performance of the portfolio, such as\n",
    "    Return = np.sum(weights * returns)*252  # yearly mean return\n",
    "    stdev = np.sqrt(np.dot(weights.T, np.dot(covmatrix, weights)))*np.sqrt(252) # Standard deviation of portfolio\n",
    "    return Return, stdev  # Output is an array of values\n",
    "\n",
    "def portReturn(weights, returns, covmatrix):\n",
    "    return PortPerformance(weights,returns,covmatrix)[0]\n",
    "\n",
    "def portVariance(weights, returns, covmatrix):\n",
    "    return PortPerformance(weights,returns,covmatrix)[1] # Standard deviation of portfolio\n",
    "\n",
    "portdata = PortPerformance(weights, meanreturn, covmatrix)\n",
    "portdata"
   ]
  },
  {
   "cell_type": "code",
   "execution_count": 5,
   "id": "4802083044d71ac7",
   "metadata": {
    "ExecuteTime": {
     "end_time": "2024-08-06T15:23:16.740317600Z",
     "start_time": "2024-08-06T15:23:16.677748900Z"
    },
    "collapsed": false,
    "jupyter": {
     "outputs_hidden": false
    }
   },
   "outputs": [
    {
     "data": {
      "text/plain": [
       "     fun: -1.0377314951345857\n",
       "     jac: array([-0.        ,  2.02430195])\n",
       " message: 'Optimization terminated successfully'\n",
       "    nfev: 6\n",
       "     nit: 2\n",
       "    njev: 2\n",
       "  status: 0\n",
       " success: True\n",
       "       x: array([1.00000000e+00, 5.55111512e-17])"
      ]
     },
     "execution_count": 5,
     "metadata": {},
     "output_type": "execute_result"
    }
   ],
   "source": [
    "# We use SLSQP Algorithm for Sharpe-ratio optimization\n",
    "def negSharpeRatio(weights, returns, covmatrix, riskfreerate = 0):\n",
    "    portreturn, stdev= PortPerformance(weights,returns,covmatrix)\n",
    "    return -(portreturn-riskfreerate)/stdev\n",
    "\n",
    "def maxSharpeRatio(returns, covmatrix, riskfreerate = 0):\n",
    "    constraint_set=(0,1)\n",
    "    numofAssets=len(returns)\n",
    "    maxsp=scmin(fun=negSharpeRatio, x0=weights,args=(returns,covmatrix,riskfreerate),\n",
    "                bounds=tuple(constraint_set for asset in range(numofAssets)),\n",
    "                constraints=({'type': 'eq', 'fun': lambda x: np.sum(x) - 1}), method='SLSQP')\n",
    "    return maxsp\n",
    "\n",
    "maxSharpeRatio(meanreturn, covmatrix)"
   ]
  },
  {
   "cell_type": "code",
   "execution_count": 6,
   "id": "3e2f05dddea561ff",
   "metadata": {
    "ExecuteTime": {
     "end_time": "2024-08-06T15:23:37.458097100Z",
     "start_time": "2024-08-06T15:23:37.411217700Z"
    },
    "collapsed": false,
    "jupyter": {
     "outputs_hidden": false
    }
   },
   "outputs": [
    {
     "data": {
      "text/plain": [
       "     fun: 0.19996307353582268\n",
       "     jac: array([0.19996434, 0.19993026])\n",
       " message: 'Optimization terminated successfully'\n",
       "    nfev: 15\n",
       "     nit: 5\n",
       "    njev: 5\n",
       "  status: 0\n",
       " success: True\n",
       "       x: array([0.96287575, 0.03712425])"
      ]
     },
     "execution_count": 6,
     "metadata": {},
     "output_type": "execute_result"
    }
   ],
   "source": [
    "def minPortfolioVariance(returns, covmatrix):\n",
    "    constraint_set = (0, 1)\n",
    "    numofAssets = len(returns)\n",
    "    minvar = scmin(fun=portVariance, x0=weights, args=(returns, covmatrix),\n",
    "                  bounds=tuple(constraint_set for asset in range(numofAssets)),\n",
    "                  constraints=({'type': 'eq', 'fun': lambda x: np.sum(x) - 1}), method='SLSQP')\n",
    "    return minvar\n",
    "\n",
    "minPortfolioVariance(meanreturn, covmatrix)"
   ]
  },
  {
   "cell_type": "code",
   "execution_count": 8,
   "id": "a30a798bd1884a83",
   "metadata": {
    "ExecuteTime": {
     "end_time": "2024-08-06T15:23:56.612031Z",
     "start_time": "2024-08-06T15:23:56.580746400Z"
    },
    "collapsed": false,
    "jupyter": {
     "outputs_hidden": false
    }
   },
   "outputs": [
    {
     "data": {
      "text/plain": [
       "     fun: 0.20019946007907732\n",
       "     jac: array([0.20066714, 0.17535925])\n",
       " message: 'Optimization terminated successfully'\n",
       "    nfev: 6\n",
       "     nit: 2\n",
       "    njev: 2\n",
       "  status: 0\n",
       " success: True\n",
       "       x: array([0.98152049, 0.01847951])"
      ]
     },
     "execution_count": 8,
     "metadata": {},
     "output_type": "execute_result"
    }
   ],
   "source": [
    "def OptimalPortfolio(returns, covmatrix, targetreturn):\n",
    "    constraint_set = (0, 1)\n",
    "    numofAssets = len(returns)\n",
    "    constraint = ({'type': 'eq', 'fun': lambda x: np.sum(x) - 1},\n",
    "                     {'type': 'eq', 'fun': lambda x: portReturn(x,returns,covmatrix)-targetreturn})\n",
    "    minvar = scmin(fun=portVariance, x0=weights, args=(returns, covmatrix),\n",
    "                   bounds=tuple(constraint_set for asset in range(numofAssets)),\n",
    "                   constraints=constraint, method='SLSQP')\n",
    "    return minvar\n",
    "\n",
    "OptimalPortfolio(meanreturn, covmatrix, 0.2)"
   ]
  },
  {
   "cell_type": "code",
   "execution_count": 9,
   "id": "92e801de2b37df67",
   "metadata": {
    "ExecuteTime": {
     "end_time": "2024-08-06T15:24:13.775290600Z",
     "start_time": "2024-08-06T15:24:12.250776500Z"
    },
    "collapsed": false,
    "jupyter": {
     "outputs_hidden": false
    }
   },
   "outputs": [
    {
     "name": "stdout",
     "output_type": "stream",
     "text": [
      "[*********************100%***********************]  2 of 2 completed\n"
     ]
    },
    {
     "name": "stderr",
     "output_type": "stream",
     "text": [
      "C:\\Users\\Pinter Andrea\\AppData\\Local\\Programs\\Python\\Python310\\lib\\site-packages\\pandas\\core\\arraylike.py:405: RuntimeWarning: invalid value encountered in log\n",
      "  result = getattr(ufunc, method)(*inputs, **kwargs)\n"
     ]
    },
    {
     "data": {
      "image/png": "[encoded data removed]",
      "text/plain": [
       "<Figure size 640x480 with 1 Axes>"
      ]
     },
     "metadata": {},
     "output_type": "display_data"
    }
   ],
   "source": [
    "ret, covmat = GetData(stocks,'ytd')\n",
    "\n",
    "maxSRret, maxSRvar = PortPerformance(maxSharpeRatio(ret,covmat).x,ret,covmat)\n",
    "minVarret, minVarvar= PortPerformance(minPortfolioVariance(ret,covmat).x, ret, covmat)\n",
    "targetreturns=np.linspace(minVarret,maxSRret,80)\n",
    "efficientList = []\n",
    "for target in targetreturns:\n",
    "    data=[target,OptimalPortfolio(ret, covmat, target).fun]\n",
    "    efficientList.append(data)\n",
    "\n",
    "frontier=pd.DataFrame(efficientList,columns=['Return','Volatility'])\n",
    "plt.scatter(x=frontier['Volatility'],y=frontier['Return'])\n",
    "plt.scatter(x=maxSRvar,y=maxSRret,c='red',marker='o',s=100)\n",
    "plt.scatter(x=minVarvar,y=minVarret,c='green',marker='o',s=100)\n",
    "plt.legend(['Efficient Frontier','Max Sharpe Ratio','Min Variance'])\n",
    "plt.xlabel('Volatility')\n",
    "plt.ylabel('Return')\n",
    "plt.title('Efficient Frontier')\n",
    "\n",
    "plt.show()"
   ]
  }
 ],
 "metadata": {
  "kernelspec": {
   "display_name": "Python 3 (ipykernel)",
   "language": "python",
   "name": "python3"
  },
  "language_info": {
   "codemirror_mode": {
    "name": "ipython",
    "version": 3
   },
   "file_extension": ".py",
   "mimetype": "text/x-python",
   "name": "python",
   "nbconvert_exporter": "python",
   "pygments_lexer": "ipython3",
   "version": "3.12.4"
  }
 },
 "nbformat": 4,
 "nbformat_minor": 5
}
