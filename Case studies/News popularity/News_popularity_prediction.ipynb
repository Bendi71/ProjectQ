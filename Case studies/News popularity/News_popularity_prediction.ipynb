{
 "cells": [
  {
   "cell_type": "code",
   "execution_count": null,
   "id": "initial_id",
   "metadata": {
    "collapsed": true
   },
   "outputs": [],
   "source": [
    "\"\"\"\n",
    "This code is my solution to the assignment for the course \"Machine Learning\" at FAKT Szakkollégium.\n",
    "The assigment was a Kaggle competition, where the goal was to predict the popularity of articles based on the given\n",
    "data. I added the data to the repository, so you can check it out.\n",
    "\n",
    "Description of the task: This is a private binary classification competition for the Introduction to Machine Learning\n",
    "Tools, at fakt in the Fall semester of 2022/23.\n",
    "\n",
    "In this competition, your task is to predict which articles are shared the most on social media. The data comes from the\n",
    " website mashable.com from the beginning of 2015.\n",
    "\"\"\""
   ]
  },
  {
   "cell_type": "code",
   "execution_count": 129,
   "outputs": [],
   "source": [
    "import pandas as pd\n",
    "from sklearn.model_selection import train_test_split\n",
    "from sklearn.preprocessing import StandardScaler\n",
    "from keras.callbacks import EarlyStopping, LearningRateScheduler\n",
    "from keras.layers import Dense\n",
    "from keras.metrics import AUC\n",
    "from keras.models import Sequential\n",
    "from sklearn.metrics import roc_auc_score"
   ],
   "metadata": {
    "collapsed": false,
    "ExecuteTime": {
     "end_time": "2024-08-07T12:00:33.500063100Z",
     "start_time": "2024-08-07T12:00:33.444896900Z"
    }
   },
   "id": "d41df59c93fbeabd"
  },
  {
   "cell_type": "code",
   "execution_count": 132,
   "outputs": [
    {
     "data": {
      "text/plain": "   timedelta  n_tokens_title  n_tokens_content  n_unique_tokens  \\\n0        594               9               702         0.454545   \n1        346               8              1197         0.470143   \n2        484               9               214         0.618090   \n3        639               8               249         0.621951   \n4        177              12              1219         0.397841   \n\n   n_non_stop_words  n_non_stop_unique_tokens  num_hrefs  num_self_hrefs  \\\n0               1.0                  0.620438         11               2   \n1               1.0                  0.666209         21               6   \n2               1.0                  0.748092          5               2   \n3               1.0                  0.664740         16               5   \n4               1.0                  0.583578         21               1   \n\n   num_imgs  num_videos  ...  max_positive_polarity  avg_negative_polarity  \\\n0         1           0  ...               1.000000              -0.153395   \n1         2          13  ...               1.000000              -0.308167   \n2         1           0  ...               0.433333              -0.141667   \n3         8           0  ...               0.500000              -0.500000   \n4         1           2  ...               0.800000              -0.441111   \n\n   min_negative_polarity  max_negative_polarity  title_subjectivity  \\\n0                   -0.4                  -0.10                 0.0   \n1                   -1.0                  -0.10                 0.0   \n2                   -0.2                  -0.05                 0.0   \n3                   -0.8                  -0.40                 0.0   \n4                   -1.0                  -0.05                 0.0   \n\n   title_sentiment_polarity  abs_title_subjectivity  \\\n0                       0.0                     0.5   \n1                       0.0                     0.5   \n2                       0.0                     0.5   \n3                       0.0                     0.5   \n4                       0.0                     0.5   \n\n   abs_title_sentiment_polarity  is_popular  article_id  \n0                           0.0           0           1  \n1                           0.0           0           3  \n2                           0.0           0           5  \n3                           0.0           0           6  \n4                           0.0           0           7  \n\n[5 rows x 61 columns]",
      "text/html": "<div>\n<style scoped>\n    .dataframe tbody tr th:only-of-type {\n        vertical-align: middle;\n    }\n\n    .dataframe tbody tr th {\n        vertical-align: top;\n    }\n\n    .dataframe thead th {\n        text-align: right;\n    }\n</style>\n<table border=\"1\" class=\"dataframe\">\n  <thead>\n    <tr style=\"text-align: right;\">\n      <th></th>\n      <th>timedelta</th>\n      <th>n_tokens_title</th>\n      <th>n_tokens_content</th>\n      <th>n_unique_tokens</th>\n      <th>n_non_stop_words</th>\n      <th>n_non_stop_unique_tokens</th>\n      <th>num_hrefs</th>\n      <th>num_self_hrefs</th>\n      <th>num_imgs</th>\n      <th>num_videos</th>\n      <th>...</th>\n      <th>max_positive_polarity</th>\n      <th>avg_negative_polarity</th>\n      <th>min_negative_polarity</th>\n      <th>max_negative_polarity</th>\n      <th>title_subjectivity</th>\n      <th>title_sentiment_polarity</th>\n      <th>abs_title_subjectivity</th>\n      <th>abs_title_sentiment_polarity</th>\n      <th>is_popular</th>\n      <th>article_id</th>\n    </tr>\n  </thead>\n  <tbody>\n    <tr>\n      <th>0</th>\n      <td>594</td>\n      <td>9</td>\n      <td>702</td>\n      <td>0.454545</td>\n      <td>1.0</td>\n      <td>0.620438</td>\n      <td>11</td>\n      <td>2</td>\n      <td>1</td>\n      <td>0</td>\n      <td>...</td>\n      <td>1.000000</td>\n      <td>-0.153395</td>\n      <td>-0.4</td>\n      <td>-0.10</td>\n      <td>0.0</td>\n      <td>0.0</td>\n      <td>0.5</td>\n      <td>0.0</td>\n      <td>0</td>\n      <td>1</td>\n    </tr>\n    <tr>\n      <th>1</th>\n      <td>346</td>\n      <td>8</td>\n      <td>1197</td>\n      <td>0.470143</td>\n      <td>1.0</td>\n      <td>0.666209</td>\n      <td>21</td>\n      <td>6</td>\n      <td>2</td>\n      <td>13</td>\n      <td>...</td>\n      <td>1.000000</td>\n      <td>-0.308167</td>\n      <td>-1.0</td>\n      <td>-0.10</td>\n      <td>0.0</td>\n      <td>0.0</td>\n      <td>0.5</td>\n      <td>0.0</td>\n      <td>0</td>\n      <td>3</td>\n    </tr>\n    <tr>\n      <th>2</th>\n      <td>484</td>\n      <td>9</td>\n      <td>214</td>\n      <td>0.618090</td>\n      <td>1.0</td>\n      <td>0.748092</td>\n      <td>5</td>\n      <td>2</td>\n      <td>1</td>\n      <td>0</td>\n      <td>...</td>\n      <td>0.433333</td>\n      <td>-0.141667</td>\n      <td>-0.2</td>\n      <td>-0.05</td>\n      <td>0.0</td>\n      <td>0.0</td>\n      <td>0.5</td>\n      <td>0.0</td>\n      <td>0</td>\n      <td>5</td>\n    </tr>\n    <tr>\n      <th>3</th>\n      <td>639</td>\n      <td>8</td>\n      <td>249</td>\n      <td>0.621951</td>\n      <td>1.0</td>\n      <td>0.664740</td>\n      <td>16</td>\n      <td>5</td>\n      <td>8</td>\n      <td>0</td>\n      <td>...</td>\n      <td>0.500000</td>\n      <td>-0.500000</td>\n      <td>-0.8</td>\n      <td>-0.40</td>\n      <td>0.0</td>\n      <td>0.0</td>\n      <td>0.5</td>\n      <td>0.0</td>\n      <td>0</td>\n      <td>6</td>\n    </tr>\n    <tr>\n      <th>4</th>\n      <td>177</td>\n      <td>12</td>\n      <td>1219</td>\n      <td>0.397841</td>\n      <td>1.0</td>\n      <td>0.583578</td>\n      <td>21</td>\n      <td>1</td>\n      <td>1</td>\n      <td>2</td>\n      <td>...</td>\n      <td>0.800000</td>\n      <td>-0.441111</td>\n      <td>-1.0</td>\n      <td>-0.05</td>\n      <td>0.0</td>\n      <td>0.0</td>\n      <td>0.5</td>\n      <td>0.0</td>\n      <td>0</td>\n      <td>7</td>\n    </tr>\n  </tbody>\n</table>\n<p>5 rows × 61 columns</p>\n</div>"
     },
     "execution_count": 132,
     "metadata": {},
     "output_type": "execute_result"
    }
   ],
   "source": [
    "# Load the data\n",
    "df = pd.read_csv(\"../Case studies/News popularity/train.csv\")\n",
    "df.head()"
   ],
   "metadata": {
    "collapsed": false,
    "ExecuteTime": {
     "end_time": "2024-08-07T12:01:18.510887300Z",
     "start_time": "2024-08-07T12:01:18.161161400Z"
    }
   },
   "id": "b2410f89279eae16"
  },
  {
   "cell_type": "code",
   "execution_count": 133,
   "outputs": [],
   "source": [
    "df = df.drop('article_id', axis=1).drop('timedelta', axis=1)\n",
    "columns_to_standardize = ['n_tokens_title', 'n_tokens_content', 'n_unique_tokens', 'n_non_stop_words',\n",
    "                          'n_non_stop_unique_tokens', 'num_hrefs', 'num_self_hrefs', 'num_imgs', 'num_videos',\n",
    "                          'average_token_length', 'num_keywords', 'kw_min_min', 'kw_max_min', 'kw_avg_min',\n",
    "                          'kw_min_max', 'kw_max_max', 'kw_avg_max', 'kw_min_avg', 'kw_max_avg', 'kw_avg_avg',\n",
    "                          'self_reference_min_shares', 'self_reference_max_shares', 'self_reference_avg_sharess',\n",
    "                          'LDA_00', 'LDA_01', 'LDA_02', 'LDA_03', 'LDA_04', 'global_subjectivity',\n",
    "                          'global_sentiment_polarity', 'global_rate_positive_words', 'global_rate_negative_words',\n",
    "                          'rate_positive_words', 'rate_negative_words', 'avg_positive_polarity',\n",
    "                          'min_positive_polarity', 'max_positive_polarity', 'avg_negative_polarity',\n",
    "                          'min_negative_polarity', 'max_negative_polarity', 'title_subjectivity',\n",
    "                          'title_sentiment_polarity', 'abs_title_subjectivity', 'abs_title_sentiment_polarity']\n",
    "scaler = StandardScaler()\n",
    "df[columns_to_standardize] = scaler.fit_transform(df[columns_to_standardize])"
   ],
   "metadata": {
    "collapsed": false,
    "ExecuteTime": {
     "end_time": "2024-08-07T12:01:23.639879500Z",
     "start_time": "2024-08-07T12:01:23.413941300Z"
    }
   },
   "id": "f700a435d9d502b6"
  },
  {
   "cell_type": "code",
   "execution_count": 134,
   "outputs": [
    {
     "data": {
      "text/plain": "(       n_tokens_title  n_tokens_content  n_unique_tokens  n_non_stop_words  \\\n 0           -0.659121          0.334487        -0.024734         -0.000969   \n 1           -1.133033          1.389137        -0.020896         -0.000969   \n 2           -0.659121         -0.705248         0.015504         -0.000969   \n 3           -1.133033         -0.630677         0.016453         -0.000969   \n 4            0.762613          1.436010        -0.038685         -0.000969   \n ...               ...               ...              ...               ...   \n 29728       -0.185210         -0.360090        -0.009823         -0.000969   \n 29729        0.288701          0.057509        -0.007195         -0.000969   \n 29730        1.236524          1.450925        -0.055998         -0.000969   \n 29731       -2.080855         -0.566759         0.023354         -0.000969   \n 29732       -0.185210         -0.854390         0.037413         -0.000969   \n \n        n_non_stop_unique_tokens  num_hrefs  num_self_hrefs  num_imgs  \\\n 0                     -0.019899   0.007715       -0.336072 -0.429105   \n 1                     -0.007754   0.891395        0.705375 -0.307357   \n 2                      0.013973  -0.522492       -0.336072 -0.429105   \n 3                     -0.008144   0.449555        0.445013  0.423131   \n 4                     -0.029680   0.891395       -0.596434 -0.429105   \n ...                         ...        ...             ...       ...   \n 29728                 -0.000540  -0.522492       -0.075710 -0.429105   \n 29729                 -0.017838   2.040179       -0.075710 -0.429105   \n 29730                 -0.061067  -0.522492        0.184652  0.301383   \n 29731                  0.018292  -0.610860       -0.075710 -0.429105   \n 29732                  0.041013  -0.610860       -0.075710 -0.550853   \n \n        num_videos  average_token_length  ...  avg_positive_polarity  \\\n 0       -0.301633              0.285303  ...               0.942877   \n 1        2.801725              0.084289  ...               0.772466   \n 2       -0.301633             -0.089891  ...              -0.953895   \n 3       -0.301633              0.751511  ...              -1.172033   \n 4        0.175806              0.128705  ...               0.253019   \n ...           ...                   ...  ...                    ...   \n 29728   -0.301633              0.198648  ...               0.163680   \n 29729    4.950204              0.855191  ...               1.170309   \n 29730   -0.062914             -0.108757  ...               0.720966   \n 29731    2.085565             -0.145493  ...               0.971405   \n 29732   -0.301633             -0.286036  ...              -0.256531   \n \n        min_positive_polarity  max_positive_polarity  avg_negative_polarity  \\\n 0                   0.061628               0.979501               0.827438   \n 1                  -0.637651               0.979501              -0.377146   \n 2                   0.061628              -1.312013               0.918720   \n 3                   0.061628              -1.042423              -1.870181   \n 4                  -0.637651               0.170732              -1.411850   \n ...                      ...                    ...                    ...   \n 29728              -0.462831              -0.638038               0.267190   \n 29729              -0.637651               0.979501              -1.377259   \n 29730               0.061628               0.979501               0.411340   \n 29731              -0.637651               0.979501               0.344004   \n 29732               0.061628              -1.042423              -1.091883   \n \n        min_negative_polarity  max_negative_polarity  title_subjectivity  \\\n 0                   0.416531               0.081453           -0.871457   \n 1                  -1.649233               0.081453           -0.871457   \n 2                   1.105119               0.604080           -0.871457   \n 3                  -0.960645              -3.054308           -0.871457   \n 4                  -1.649233               0.604080           -0.871457   \n ...                      ...                    ...                 ...   \n 29728               0.072237               0.081453            2.220159   \n 29729              -0.788498              -0.963800            0.983512   \n 29730              -0.616351               0.604080            0.287899   \n 29731               0.072237               0.081453            2.220159   \n 29732               0.072237              -2.009054           -0.871457   \n \n        title_sentiment_polarity  abs_title_subjectivity  \\\n 0                     -0.263606                0.840199   \n 1                     -0.263606                0.840199   \n 2                     -0.263606                0.840199   \n 3                     -0.263606                0.840199   \n 4                     -0.263606                0.840199   \n ...                         ...                     ...   \n 29728                 -1.209234                0.840199   \n 29729                  2.384154               -1.279206   \n 29730                  1.249400               -1.146743   \n 29731                  2.005903                0.840199   \n 29732                 -0.263606                0.840199   \n \n        abs_title_sentiment_polarity  \n 0                         -0.689738  \n 1                         -0.689738  \n 2                         -0.689738  \n 3                         -0.689738  \n 4                         -0.689738  \n ...                             ...  \n 29728                      0.421066  \n 29729                      2.420512  \n 29730                      1.087548  \n 29731                      1.976191  \n 29732                     -0.689738  \n \n [29733 rows x 58 columns],\n 0        0\n 1        0\n 2        0\n 3        0\n 4        0\n         ..\n 29728    0\n 29729    0\n 29730    1\n 29731    0\n 29732    0\n Name: is_popular, Length: 29733, dtype: int64)"
     },
     "execution_count": 134,
     "metadata": {},
     "output_type": "execute_result"
    }
   ],
   "source": [
    "x = df.iloc[:, :-1]\n",
    "y = df.iloc[:, -1]\n",
    "\n",
    "x,y"
   ],
   "metadata": {
    "collapsed": false,
    "ExecuteTime": {
     "end_time": "2024-08-07T12:01:27.050091500Z",
     "start_time": "2024-08-07T12:01:27.009752400Z"
    }
   },
   "id": "bdc92a7a02d29d74"
  },
  {
   "cell_type": "code",
   "execution_count": 135,
   "outputs": [],
   "source": [
    "x_train, x_test, y_train, y_test = train_test_split(\n",
    "    x, y, test_size=0.25, random_state=77)"
   ],
   "metadata": {
    "collapsed": false,
    "ExecuteTime": {
     "end_time": "2024-08-07T12:01:30.901280600Z",
     "start_time": "2024-08-07T12:01:30.809940800Z"
    }
   },
   "id": "8bbb4797622ebe9"
  },
  {
   "cell_type": "code",
   "execution_count": 145,
   "outputs": [
    {
     "name": "stdout",
     "output_type": "stream",
     "text": [
      "Model: \"sequential_37\"\n",
      "_________________________________________________________________\n",
      " Layer (type)                Output Shape              Param #   \n",
      "=================================================================\n",
      " dense_156 (Dense)           (None, 100)               5900      \n",
      "                                                                 \n",
      " dense_157 (Dense)           (None, 100)               10100     \n",
      "                                                                 \n",
      " dense_158 (Dense)           (None, 50)                5050      \n",
      "                                                                 \n",
      " dense_159 (Dense)           (None, 50)                2550      \n",
      "                                                                 \n",
      " dense_160 (Dense)           (None, 1)                 51        \n",
      "                                                                 \n",
      "=================================================================\n",
      "Total params: 23,651\n",
      "Trainable params: 23,651\n",
      "Non-trainable params: 0\n",
      "_________________________________________________________________\n"
     ]
    }
   ],
   "source": [
    "#Egy réteggel bővített neurális háló, Adam optimalizálás.\n",
    "model = Sequential()\n",
    "\n",
    "model.add(Dense(100, input_dim=x.shape[1], activation='relu',\n",
    "                kernel_initializer='random_normal'))\n",
    "model.add(Dense(100, activation='relu',\n",
    "                kernel_initializer='random_normal'))\n",
    "model.add(Dense(50,activation='relu',kernel_initializer='random_normal'))\n",
    "model.add(Dense(50,activation='relu',kernel_initializer='random_normal'))\n",
    "model.add(Dense(1,activation='sigmoid',kernel_initializer='random_normal'))\n",
    "model.compile(\n",
    "    loss='binary_crossentropy', \n",
    "    optimizer='adam',\n",
    "    metrics=[AUC(name='auc'), 'accuracy'])\n",
    "\n",
    "earlystop = EarlyStopping(monitor='val_loss', min_delta=1e-3, \n",
    " patience=5, verbose=1, mode='auto', restore_best_weights=True)\n",
    "\n",
    "model.summary()"
   ],
   "metadata": {
    "collapsed": false,
    "ExecuteTime": {
     "end_time": "2024-08-07T12:05:42.949779700Z",
     "start_time": "2024-08-07T12:05:42.820015500Z"
    }
   },
   "id": "e120ed96ca8749a7"
  },
  {
   "cell_type": "code",
   "execution_count": 146,
   "outputs": [
    {
     "name": "stdout",
     "output_type": "stream",
     "text": [
      "Epoch 1/100\n",
      "349/349 [==============================] - 2s 3ms/step - loss: 0.3726 - auc: 0.6509 - accuracy: 0.8753 - val_loss: 0.3520 - val_auc: 0.6629 - val_accuracy: 0.8812\n",
      "Epoch 2/100\n",
      "349/349 [==============================] - 1s 2ms/step - loss: 0.3433 - auc: 0.7048 - accuracy: 0.8774 - val_loss: 0.3472 - val_auc: 0.6779 - val_accuracy: 0.8812\n",
      "Epoch 3/100\n",
      "349/349 [==============================] - 1s 2ms/step - loss: 0.3393 - auc: 0.7167 - accuracy: 0.8774 - val_loss: 0.3492 - val_auc: 0.6763 - val_accuracy: 0.8812\n",
      "Epoch 4/100\n",
      "349/349 [==============================] - 1s 2ms/step - loss: 0.3377 - auc: 0.7208 - accuracy: 0.8774 - val_loss: 0.3480 - val_auc: 0.6804 - val_accuracy: 0.8812\n",
      "Epoch 5/100\n",
      "349/349 [==============================] - 1s 3ms/step - loss: 0.3350 - auc: 0.7284 - accuracy: 0.8774 - val_loss: 0.3516 - val_auc: 0.6845 - val_accuracy: 0.8812\n",
      "Epoch 6/100\n",
      "349/349 [==============================] - 1s 3ms/step - loss: 0.3326 - auc: 0.7350 - accuracy: 0.8774 - val_loss: 0.3440 - val_auc: 0.6860 - val_accuracy: 0.8812\n",
      "Epoch 7/100\n",
      "349/349 [==============================] - 1s 3ms/step - loss: 0.3292 - auc: 0.7423 - accuracy: 0.8776 - val_loss: 0.3479 - val_auc: 0.6796 - val_accuracy: 0.8788\n",
      "Epoch 8/100\n",
      "349/349 [==============================] - 1s 2ms/step - loss: 0.3258 - auc: 0.7501 - accuracy: 0.8789 - val_loss: 0.3508 - val_auc: 0.6762 - val_accuracy: 0.8780\n",
      "Epoch 9/100\n",
      "349/349 [==============================] - 1s 2ms/step - loss: 0.3229 - auc: 0.7567 - accuracy: 0.8798 - val_loss: 0.3517 - val_auc: 0.6784 - val_accuracy: 0.8726\n",
      "Epoch 10/100\n",
      "349/349 [==============================] - 1s 2ms/step - loss: 0.3190 - auc: 0.7642 - accuracy: 0.8814 - val_loss: 0.3559 - val_auc: 0.6663 - val_accuracy: 0.8789\n",
      "Epoch 11/100\n",
      "329/349 [===========================>..] - ETA: 0s - loss: 0.3167 - auc: 0.7706 - accuracy: 0.8824Restoring model weights from the end of the best epoch: 6.\n",
      "349/349 [==============================] - 1s 2ms/step - loss: 0.3152 - auc: 0.7715 - accuracy: 0.8830 - val_loss: 0.3598 - val_auc: 0.6662 - val_accuracy: 0.8709\n",
      "Epoch 11: early stopping\n"
     ]
    },
    {
     "data": {
      "text/plain": "<keras.callbacks.History at 0x1fc1b90fc40>"
     },
     "execution_count": 146,
     "metadata": {},
     "output_type": "execute_result"
    }
   ],
   "source": [
    "model.fit(x_train, y_train, epochs=100, batch_size=64, validation_data=(x_test, y_test), callbacks=[earlystop])"
   ],
   "metadata": {
    "collapsed": false,
    "ExecuteTime": {
     "end_time": "2024-08-07T12:05:54.999778Z",
     "start_time": "2024-08-07T12:05:43.900950500Z"
    }
   },
   "id": "cf8c8e353e3ccfb9"
  },
  {
   "cell_type": "code",
   "execution_count": 147,
   "outputs": [
    {
     "name": "stdout",
     "output_type": "stream",
     "text": [
      "233/233 [==============================] - 0s 1ms/step - loss: 0.3440 - auc: 0.6860 - accuracy: 0.8812\n"
     ]
    },
    {
     "data": {
      "text/plain": "[0.34401607513427734, 0.6860003471374512, 0.8812214136123657]"
     },
     "execution_count": 147,
     "metadata": {},
     "output_type": "execute_result"
    }
   ],
   "source": [
    "model.evaluate(x_test, y_test)"
   ],
   "metadata": {
    "collapsed": false,
    "ExecuteTime": {
     "end_time": "2024-08-07T12:06:00.309086700Z",
     "start_time": "2024-08-07T12:05:59.829726700Z"
    }
   },
   "id": "4582e9c271b00503"
  },
  {
   "cell_type": "code",
   "execution_count": 139,
   "outputs": [
    {
     "name": "stdout",
     "output_type": "stream",
     "text": [
      "Model: \"sequential_35\"\n",
      "_________________________________________________________________\n",
      " Layer (type)                Output Shape              Param #   \n",
      "=================================================================\n",
      " dense_146 (Dense)           (None, 100)               5900      \n",
      "                                                                 \n",
      " dense_147 (Dense)           (None, 100)               10100     \n",
      "                                                                 \n",
      " dense_148 (Dense)           (None, 50)                5050      \n",
      "                                                                 \n",
      " dense_149 (Dense)           (None, 50)                2550      \n",
      "                                                                 \n",
      " dense_150 (Dense)           (None, 1)                 51        \n",
      "                                                                 \n",
      "=================================================================\n",
      "Total params: 23,651\n",
      "Trainable params: 23,651\n",
      "Non-trainable params: 0\n",
      "_________________________________________________________________\n"
     ]
    }
   ],
   "source": [
    "#Ridge büntető paraméter\n",
    "model = Sequential()\n",
    "\n",
    "model.add(Dense(100, activation='relu',input_dim=x.shape[1], kernel_initializer='random_normal', \n",
    "    kernel_regularizer='l2'))\n",
    "model.add(Dense(100, activation='relu', kernel_initializer='random_normal', kernel_regularizer='l2'))\n",
    "model.add(Dense(50, activation='relu', kernel_initializer='random_normal', kernel_regularizer='l2'))\n",
    "model.add(Dense(50, activation='relu', kernel_initializer='random_normal', kernel_regularizer='l2'))\n",
    "model.add(Dense(1, activation='sigmoid', kernel_initializer='random_normal'))\n",
    "\n",
    "\n",
    "model.compile(loss='binary_crossentropy', optimizer='adam', metrics=[AUC(name='auc'), 'accuracy'])\n",
    "\n",
    "model.summary()"
   ],
   "metadata": {
    "collapsed": false,
    "ExecuteTime": {
     "end_time": "2024-08-07T12:04:21.539317600Z",
     "start_time": "2024-08-07T12:04:21.349970600Z"
    }
   },
   "id": "facdee42d5561ae5"
  },
  {
   "cell_type": "code",
   "execution_count": 140,
   "outputs": [
    {
     "name": "stdout",
     "output_type": "stream",
     "text": [
      "Epoch 1/100\n",
      "349/349 [==============================] - 2s 3ms/step - loss: 0.4826 - auc: 0.6226 - accuracy: 0.8752 - val_loss: 0.3758 - val_auc: 0.6649 - val_accuracy: 0.8812\n",
      "Epoch 2/100\n",
      "349/349 [==============================] - 1s 2ms/step - loss: 0.3775 - auc: 0.6754 - accuracy: 0.8774 - val_loss: 0.3720 - val_auc: 0.6592 - val_accuracy: 0.8812\n",
      "Epoch 3/100\n",
      "349/349 [==============================] - 1s 2ms/step - loss: 0.3754 - auc: 0.6667 - accuracy: 0.8774 - val_loss: 0.3703 - val_auc: 0.6575 - val_accuracy: 0.8812\n",
      "Epoch 4/100\n",
      "349/349 [==============================] - 1s 3ms/step - loss: 0.3745 - auc: 0.6633 - accuracy: 0.8774 - val_loss: 0.3678 - val_auc: 0.6664 - val_accuracy: 0.8812\n",
      "Epoch 5/100\n",
      "349/349 [==============================] - 1s 2ms/step - loss: 0.3730 - auc: 0.6699 - accuracy: 0.8774 - val_loss: 0.3679 - val_auc: 0.6635 - val_accuracy: 0.8812\n",
      "Epoch 6/100\n",
      "349/349 [==============================] - 1s 3ms/step - loss: 0.3717 - auc: 0.6745 - accuracy: 0.8774 - val_loss: 0.3716 - val_auc: 0.6637 - val_accuracy: 0.8812\n",
      "Epoch 7/100\n",
      "349/349 [==============================] - 1s 3ms/step - loss: 0.3718 - auc: 0.6709 - accuracy: 0.8774 - val_loss: 0.3675 - val_auc: 0.6644 - val_accuracy: 0.8812\n",
      "Epoch 8/100\n",
      "349/349 [==============================] - 1s 3ms/step - loss: 0.3705 - auc: 0.6767 - accuracy: 0.8774 - val_loss: 0.3663 - val_auc: 0.6649 - val_accuracy: 0.8812\n",
      "Epoch 9/100\n",
      "349/349 [==============================] - 1s 3ms/step - loss: 0.3698 - auc: 0.6770 - accuracy: 0.8774 - val_loss: 0.3674 - val_auc: 0.6607 - val_accuracy: 0.8812\n",
      "Epoch 10/100\n",
      "349/349 [==============================] - 1s 2ms/step - loss: 0.3696 - auc: 0.6754 - accuracy: 0.8774 - val_loss: 0.3686 - val_auc: 0.6554 - val_accuracy: 0.8812\n",
      "Epoch 11/100\n",
      "349/349 [==============================] - 1s 2ms/step - loss: 0.3690 - auc: 0.6756 - accuracy: 0.8774 - val_loss: 0.3655 - val_auc: 0.6625 - val_accuracy: 0.8812\n",
      "Epoch 12/100\n",
      "349/349 [==============================] - 1s 2ms/step - loss: 0.3679 - auc: 0.6823 - accuracy: 0.8774 - val_loss: 0.3638 - val_auc: 0.6632 - val_accuracy: 0.8812\n",
      "Epoch 13/100\n",
      "349/349 [==============================] - 1s 2ms/step - loss: 0.3688 - auc: 0.6740 - accuracy: 0.8774 - val_loss: 0.3674 - val_auc: 0.6595 - val_accuracy: 0.8812\n",
      "Epoch 14/100\n",
      "349/349 [==============================] - 1s 2ms/step - loss: 0.3677 - auc: 0.6792 - accuracy: 0.8774 - val_loss: 0.3660 - val_auc: 0.6627 - val_accuracy: 0.8812\n",
      "Epoch 15/100\n",
      "349/349 [==============================] - 1s 2ms/step - loss: 0.3673 - auc: 0.6792 - accuracy: 0.8774 - val_loss: 0.3650 - val_auc: 0.6681 - val_accuracy: 0.8812\n",
      "Epoch 16/100\n",
      "349/349 [==============================] - 1s 3ms/step - loss: 0.3668 - auc: 0.6813 - accuracy: 0.8774 - val_loss: 0.3662 - val_auc: 0.6634 - val_accuracy: 0.8812\n",
      "Epoch 17/100\n",
      "336/349 [===========================>..] - ETA: 0s - loss: 0.3653 - auc: 0.6827 - accuracy: 0.8779Restoring model weights from the end of the best epoch: 12.\n",
      "349/349 [==============================] - 1s 2ms/step - loss: 0.3663 - auc: 0.6824 - accuracy: 0.8774 - val_loss: 0.3667 - val_auc: 0.6627 - val_accuracy: 0.8812\n",
      "Epoch 17: early stopping\n"
     ]
    },
    {
     "data": {
      "text/plain": "<keras.callbacks.History at 0x1fc13c19330>"
     },
     "execution_count": 140,
     "metadata": {},
     "output_type": "execute_result"
    }
   ],
   "source": [
    "model.fit(x_train, y_train, epochs=100, batch_size=64, validation_data=(x_test, y_test), callbacks=[earlystop])"
   ],
   "metadata": {
    "collapsed": false,
    "ExecuteTime": {
     "end_time": "2024-08-07T12:04:39.227831300Z",
     "start_time": "2024-08-07T12:04:22.730597700Z"
    }
   },
   "id": "ab98a34183d43c2c"
  },
  {
   "cell_type": "code",
   "execution_count": 141,
   "outputs": [
    {
     "name": "stdout",
     "output_type": "stream",
     "text": [
      "233/233 [==============================] - 0s 2ms/step - loss: 0.3638 - auc: 0.6632 - accuracy: 0.8812\n"
     ]
    },
    {
     "data": {
      "text/plain": "[0.36378952860832214, 0.6632379293441772, 0.8812214136123657]"
     },
     "execution_count": 141,
     "metadata": {},
     "output_type": "execute_result"
    }
   ],
   "source": [
    "model.evaluate(x_test, y_test)"
   ],
   "metadata": {
    "collapsed": false,
    "ExecuteTime": {
     "end_time": "2024-08-07T12:04:45.631002600Z",
     "start_time": "2024-08-07T12:04:44.970936300Z"
    }
   },
   "id": "89882ac17448d16"
  },
  {
   "cell_type": "code",
   "execution_count": 148,
   "outputs": [
    {
     "name": "stdout",
     "output_type": "stream",
     "text": [
      "Model: \"sequential_38\"\n",
      "_________________________________________________________________\n",
      " Layer (type)                Output Shape              Param #   \n",
      "=================================================================\n",
      " dense_161 (Dense)           (None, 100)               5900      \n",
      "                                                                 \n",
      " dense_162 (Dense)           (None, 100)               10100     \n",
      "                                                                 \n",
      " dense_163 (Dense)           (None, 50)                5050      \n",
      "                                                                 \n",
      " dense_164 (Dense)           (None, 50)                2550      \n",
      "                                                                 \n",
      " dense_165 (Dense)           (None, 1)                 51        \n",
      "                                                                 \n",
      "=================================================================\n",
      "Total params: 23,651\n",
      "Trainable params: 23,651\n",
      "Non-trainable params: 0\n",
      "_________________________________________________________________\n"
     ]
    }
   ],
   "source": [
    "# Trying SGD optimizer\n",
    "model = Sequential()\n",
    "\n",
    "model.add(Dense(100, input_dim=x.shape[1], activation='relu',\n",
    "                kernel_initializer='random_normal',\n",
    "                kernel_regularizer='l2'))\n",
    "model.add(Dense(100, activation='relu',\n",
    "                kernel_initializer='random_normal', kernel_regularizer='l2'))\n",
    "model.add(Dense(50, activation='relu', kernel_initializer='random_normal', kernel_regularizer='l2'))\n",
    "model.add(Dense(50, activation='relu', kernel_initializer='random_normal', kernel_regularizer='l2'))\n",
    "model.add(Dense(1, activation='sigmoid', kernel_initializer='random_normal', kernel_regularizer='l2'))\n",
    "model.compile(\n",
    "    loss='binary_crossentropy',\n",
    "    optimizer='sgd',\n",
    "    metrics=[AUC(name='auc'), 'accuracy']\n",
    ")\n",
    "\n",
    "model.summary()"
   ],
   "metadata": {
    "collapsed": false,
    "ExecuteTime": {
     "end_time": "2024-08-07T12:06:13.590079200Z",
     "start_time": "2024-08-07T12:06:13.439839200Z"
    }
   },
   "id": "9bcfd734f774011b"
  },
  {
   "cell_type": "code",
   "execution_count": 149,
   "outputs": [
    {
     "name": "stdout",
     "output_type": "stream",
     "text": [
      "Epoch 1/100\n",
      "349/349 [==============================] - 2s 3ms/step - loss: 1.0760 - auc: 0.5003 - accuracy: 0.8758 - val_loss: 0.9439 - val_auc: 0.4991 - val_accuracy: 0.8812\n",
      "Epoch 2/100\n",
      "349/349 [==============================] - 1s 2ms/step - loss: 0.8824 - auc: 0.4984 - accuracy: 0.8774 - val_loss: 0.8249 - val_auc: 0.4994 - val_accuracy: 0.8812\n",
      "Epoch 3/100\n",
      "349/349 [==============================] - 1s 2ms/step - loss: 0.7936 - auc: 0.5012 - accuracy: 0.8774 - val_loss: 0.7542 - val_auc: 0.4994 - val_accuracy: 0.8812\n",
      "Epoch 4/100\n",
      "349/349 [==============================] - 1s 2ms/step - loss: 0.7333 - auc: 0.4919 - accuracy: 0.8774 - val_loss: 0.7007 - val_auc: 0.4994 - val_accuracy: 0.8812\n",
      "Epoch 5/100\n",
      "349/349 [==============================] - 1s 2ms/step - loss: 0.6849 - auc: 0.4909 - accuracy: 0.8774 - val_loss: 0.6562 - val_auc: 0.5014 - val_accuracy: 0.8812\n",
      "Epoch 6/100\n",
      "349/349 [==============================] - 1s 2ms/step - loss: 0.6439 - auc: 0.4932 - accuracy: 0.8774 - val_loss: 0.6180 - val_auc: 0.4992 - val_accuracy: 0.8812\n",
      "Epoch 7/100\n",
      "349/349 [==============================] - 1s 3ms/step - loss: 0.6084 - auc: 0.4958 - accuracy: 0.8774 - val_loss: 0.5849 - val_auc: 0.4994 - val_accuracy: 0.8812\n",
      "Epoch 8/100\n",
      "349/349 [==============================] - 1s 2ms/step - loss: 0.5777 - auc: 0.5000 - accuracy: 0.8774 - val_loss: 0.5563 - val_auc: 0.4994 - val_accuracy: 0.8812\n",
      "Epoch 9/100\n",
      "349/349 [==============================] - 1s 3ms/step - loss: 0.5510 - auc: 0.5000 - accuracy: 0.8774 - val_loss: 0.5313 - val_auc: 0.4994 - val_accuracy: 0.8812\n",
      "Epoch 10/100\n",
      "349/349 [==============================] - 1s 3ms/step - loss: 0.5277 - auc: 0.5000 - accuracy: 0.8774 - val_loss: 0.5097 - val_auc: 0.4994 - val_accuracy: 0.8812\n",
      "Epoch 11/100\n",
      "349/349 [==============================] - 1s 2ms/step - loss: 0.5075 - auc: 0.4973 - accuracy: 0.8774 - val_loss: 0.4908 - val_auc: 0.4994 - val_accuracy: 0.8812\n",
      "Epoch 12/100\n",
      "349/349 [==============================] - 1s 2ms/step - loss: 0.4899 - auc: 0.5000 - accuracy: 0.8774 - val_loss: 0.4744 - val_auc: 0.4994 - val_accuracy: 0.8812\n",
      "Epoch 13/100\n",
      "349/349 [==============================] - 1s 2ms/step - loss: 0.4746 - auc: 0.4961 - accuracy: 0.8774 - val_loss: 0.4602 - val_auc: 0.4752 - val_accuracy: 0.8812\n",
      "Epoch 14/100\n",
      "349/349 [==============================] - 1s 2ms/step - loss: 0.4613 - auc: 0.4952 - accuracy: 0.8774 - val_loss: 0.4478 - val_auc: 0.5000 - val_accuracy: 0.8812\n",
      "Epoch 15/100\n",
      "349/349 [==============================] - 1s 2ms/step - loss: 0.4497 - auc: 0.4970 - accuracy: 0.8774 - val_loss: 0.4370 - val_auc: 0.5000 - val_accuracy: 0.8812\n",
      "Epoch 16/100\n",
      "349/349 [==============================] - 1s 2ms/step - loss: 0.4396 - auc: 0.4951 - accuracy: 0.8774 - val_loss: 0.4276 - val_auc: 0.5000 - val_accuracy: 0.8812\n",
      "Epoch 17/100\n",
      "349/349 [==============================] - 1s 2ms/step - loss: 0.4309 - auc: 0.4972 - accuracy: 0.8774 - val_loss: 0.4194 - val_auc: 0.5000 - val_accuracy: 0.8812\n",
      "Epoch 18/100\n",
      "349/349 [==============================] - 1s 2ms/step - loss: 0.4232 - auc: 0.5000 - accuracy: 0.8774 - val_loss: 0.4123 - val_auc: 0.5000 - val_accuracy: 0.8812\n",
      "Epoch 19/100\n",
      "349/349 [==============================] - 1s 2ms/step - loss: 0.4166 - auc: 0.4987 - accuracy: 0.8774 - val_loss: 0.4061 - val_auc: 0.5000 - val_accuracy: 0.8812\n",
      "Epoch 20/100\n",
      "349/349 [==============================] - 1s 2ms/step - loss: 0.4108 - auc: 0.5000 - accuracy: 0.8774 - val_loss: 0.4007 - val_auc: 0.5000 - val_accuracy: 0.8812\n",
      "Epoch 21/100\n",
      "349/349 [==============================] - 1s 2ms/step - loss: 0.4058 - auc: 0.5000 - accuracy: 0.8774 - val_loss: 0.3961 - val_auc: 0.5000 - val_accuracy: 0.8812\n",
      "Epoch 22/100\n",
      "349/349 [==============================] - 1s 2ms/step - loss: 0.4014 - auc: 0.4886 - accuracy: 0.8774 - val_loss: 0.3920 - val_auc: 0.5000 - val_accuracy: 0.8812\n",
      "Epoch 23/100\n",
      "349/349 [==============================] - 1s 2ms/step - loss: 0.3976 - auc: 0.5000 - accuracy: 0.8774 - val_loss: 0.3884 - val_auc: 0.5000 - val_accuracy: 0.8812\n",
      "Epoch 24/100\n",
      "349/349 [==============================] - 1s 2ms/step - loss: 0.3943 - auc: 0.5000 - accuracy: 0.8774 - val_loss: 0.3853 - val_auc: 0.5000 - val_accuracy: 0.8812\n",
      "Epoch 25/100\n",
      "349/349 [==============================] - 1s 2ms/step - loss: 0.3915 - auc: 0.5000 - accuracy: 0.8774 - val_loss: 0.3827 - val_auc: 0.5000 - val_accuracy: 0.8812\n",
      "Epoch 26/100\n",
      "349/349 [==============================] - 1s 2ms/step - loss: 0.3889 - auc: 0.4954 - accuracy: 0.8774 - val_loss: 0.3803 - val_auc: 0.5000 - val_accuracy: 0.8812\n",
      "Epoch 27/100\n",
      "349/349 [==============================] - 1s 2ms/step - loss: 0.3868 - auc: 0.5000 - accuracy: 0.8774 - val_loss: 0.3783 - val_auc: 0.5000 - val_accuracy: 0.8812\n",
      "Epoch 28/100\n",
      "349/349 [==============================] - 1s 3ms/step - loss: 0.3849 - auc: 0.5000 - accuracy: 0.8774 - val_loss: 0.3765 - val_auc: 0.5000 - val_accuracy: 0.8812\n",
      "Epoch 29/100\n",
      "349/349 [==============================] - 1s 2ms/step - loss: 0.3832 - auc: 0.5000 - accuracy: 0.8774 - val_loss: 0.3750 - val_auc: 0.5000 - val_accuracy: 0.8812\n",
      "Epoch 30/100\n",
      "349/349 [==============================] - 1s 3ms/step - loss: 0.3818 - auc: 0.5000 - accuracy: 0.8774 - val_loss: 0.3736 - val_auc: 0.5000 - val_accuracy: 0.8812\n",
      "Epoch 31/100\n",
      "349/349 [==============================] - 1s 3ms/step - loss: 0.3805 - auc: 0.5000 - accuracy: 0.8774 - val_loss: 0.3725 - val_auc: 0.5000 - val_accuracy: 0.8812\n",
      "Epoch 32/100\n",
      "349/349 [==============================] - 1s 2ms/step - loss: 0.3794 - auc: 0.5000 - accuracy: 0.8774 - val_loss: 0.3714 - val_auc: 0.5000 - val_accuracy: 0.8812\n",
      "Epoch 33/100\n",
      "349/349 [==============================] - 1s 2ms/step - loss: 0.3785 - auc: 0.5000 - accuracy: 0.8774 - val_loss: 0.3705 - val_auc: 0.5000 - val_accuracy: 0.8812\n",
      "Epoch 34/100\n",
      "349/349 [==============================] - 1s 2ms/step - loss: 0.3777 - auc: 0.5000 - accuracy: 0.8774 - val_loss: 0.3698 - val_auc: 0.5000 - val_accuracy: 0.8812\n",
      "Epoch 35/100\n",
      "349/349 [==============================] - 1s 2ms/step - loss: 0.3769 - auc: 0.5000 - accuracy: 0.8774 - val_loss: 0.3691 - val_auc: 0.5000 - val_accuracy: 0.8812\n",
      "Epoch 36/100\n",
      "349/349 [==============================] - 1s 2ms/step - loss: 0.3763 - auc: 0.5000 - accuracy: 0.8774 - val_loss: 0.3685 - val_auc: 0.5000 - val_accuracy: 0.8812\n",
      "Epoch 37/100\n",
      "349/349 [==============================] - 1s 2ms/step - loss: 0.3758 - auc: 0.5000 - accuracy: 0.8774 - val_loss: 0.3680 - val_auc: 0.5000 - val_accuracy: 0.8812\n",
      "Epoch 38/100\n",
      "349/349 [==============================] - 1s 2ms/step - loss: 0.3753 - auc: 0.5000 - accuracy: 0.8774 - val_loss: 0.3676 - val_auc: 0.5000 - val_accuracy: 0.8812\n",
      "Epoch 39/100\n",
      "349/349 [==============================] - 1s 2ms/step - loss: 0.3749 - auc: 0.5000 - accuracy: 0.8774 - val_loss: 0.3672 - val_auc: 0.5000 - val_accuracy: 0.8812\n",
      "Epoch 40/100\n",
      "349/349 [==============================] - 1s 2ms/step - loss: 0.3745 - auc: 0.5000 - accuracy: 0.8774 - val_loss: 0.3669 - val_auc: 0.5000 - val_accuracy: 0.8812\n",
      "Epoch 41/100\n",
      "349/349 [==============================] - 1s 2ms/step - loss: 0.3742 - auc: 0.5000 - accuracy: 0.8774 - val_loss: 0.3666 - val_auc: 0.5000 - val_accuracy: 0.8812\n",
      "Epoch 42/100\n",
      "349/349 [==============================] - 1s 2ms/step - loss: 0.3739 - auc: 0.5000 - accuracy: 0.8774 - val_loss: 0.3663 - val_auc: 0.5000 - val_accuracy: 0.8812\n",
      "Epoch 43/100\n",
      "349/349 [==============================] - 1s 2ms/step - loss: 0.3737 - auc: 0.5000 - accuracy: 0.8774 - val_loss: 0.3661 - val_auc: 0.5000 - val_accuracy: 0.8812\n",
      "Epoch 44/100\n",
      "349/349 [==============================] - 1s 2ms/step - loss: 0.3735 - auc: 0.5000 - accuracy: 0.8774 - val_loss: 0.3659 - val_auc: 0.5000 - val_accuracy: 0.8812\n",
      "Epoch 45/100\n",
      "349/349 [==============================] - 1s 2ms/step - loss: 0.3733 - auc: 0.5000 - accuracy: 0.8774 - val_loss: 0.3657 - val_auc: 0.5000 - val_accuracy: 0.8812\n",
      "Epoch 46/100\n",
      "349/349 [==============================] - 1s 2ms/step - loss: 0.3732 - auc: 0.5000 - accuracy: 0.8774 - val_loss: 0.3656 - val_auc: 0.5000 - val_accuracy: 0.8812\n",
      "Epoch 47/100\n",
      "349/349 [==============================] - 1s 2ms/step - loss: 0.3730 - auc: 0.5000 - accuracy: 0.8774 - val_loss: 0.3654 - val_auc: 0.5000 - val_accuracy: 0.8812\n",
      "Epoch 48/100\n",
      "338/349 [============================>.] - ETA: 0s - loss: 0.3719 - auc: 0.5000 - accuracy: 0.8779Restoring model weights from the end of the best epoch: 43.\n",
      "349/349 [==============================] - 1s 2ms/step - loss: 0.3729 - auc: 0.5000 - accuracy: 0.8774 - val_loss: 0.3653 - val_auc: 0.5000 - val_accuracy: 0.8812\n",
      "Epoch 48: early stopping\n"
     ]
    },
    {
     "data": {
      "text/plain": "<keras.callbacks.History at 0x1fc1bb9bd00>"
     },
     "execution_count": 149,
     "metadata": {},
     "output_type": "execute_result"
    }
   ],
   "source": [
    "model.fit(x_train, y_train, epochs=100, batch_size=64, validation_data=(x_test, y_test), callbacks=[earlystop])"
   ],
   "metadata": {
    "collapsed": false,
    "ExecuteTime": {
     "end_time": "2024-08-07T12:06:52.441309100Z",
     "start_time": "2024-08-07T12:06:14.620954800Z"
    }
   },
   "id": "9aff947c9c7d81e0"
  },
  {
   "cell_type": "code",
   "execution_count": 150,
   "outputs": [
    {
     "name": "stdout",
     "output_type": "stream",
     "text": [
      "233/233 [==============================] - 0s 1ms/step - loss: 0.3661 - auc: 0.5000 - accuracy: 0.8812\n"
     ]
    },
    {
     "data": {
      "text/plain": "[0.36607858538627625, 0.5, 0.8812214136123657]"
     },
     "execution_count": 150,
     "metadata": {},
     "output_type": "execute_result"
    }
   ],
   "source": [
    "model.evaluate(x_test, y_test)"
   ],
   "metadata": {
    "collapsed": false,
    "ExecuteTime": {
     "end_time": "2024-08-07T12:06:58.309311500Z",
     "start_time": "2024-08-07T12:06:57.849895800Z"
    }
   },
   "id": "13bf6ff645dceda9"
  },
  {
   "cell_type": "code",
   "execution_count": 151,
   "outputs": [],
   "source": [
    "# accuracy is the same for all models, but the AUC is the highest for the model with the Adam optimizer"
   ],
   "metadata": {
    "collapsed": false,
    "ExecuteTime": {
     "end_time": "2024-08-07T12:07:02.469368100Z",
     "start_time": "2024-08-07T12:07:02.431419Z"
    }
   },
   "id": "9ae4e005a5779b1e"
  },
  {
   "cell_type": "code",
   "execution_count": 152,
   "outputs": [],
   "source": [
    "# Dynamic learning rate\n",
    "def lr_schedule(epoch):\n",
    "    initial_lr = 0.01\n",
    "    drop = 0.5\n",
    "    epochs_drop = 5\n",
    "    lr = initial_lr * (drop ** (epoch // epochs_drop))\n",
    "    return float(lr)\n",
    "lr_scheduler = LearningRateScheduler(lr_schedule)"
   ],
   "metadata": {
    "collapsed": false,
    "ExecuteTime": {
     "end_time": "2024-08-07T12:07:04.811227200Z",
     "start_time": "2024-08-07T12:07:04.781496300Z"
    }
   },
   "id": "2f77cf5c83a29f7a"
  },
  {
   "cell_type": "code",
   "execution_count": 153,
   "outputs": [
    {
     "name": "stdout",
     "output_type": "stream",
     "text": [
      "Model: \"sequential_39\"\n",
      "_________________________________________________________________\n",
      " Layer (type)                Output Shape              Param #   \n",
      "=================================================================\n",
      " dense_166 (Dense)           (None, 100)               5900      \n",
      "                                                                 \n",
      " dense_167 (Dense)           (None, 100)               10100     \n",
      "                                                                 \n",
      " dense_168 (Dense)           (None, 50)                5050      \n",
      "                                                                 \n",
      " dense_169 (Dense)           (None, 50)                2550      \n",
      "                                                                 \n",
      " dense_170 (Dense)           (None, 1)                 51        \n",
      "                                                                 \n",
      "=================================================================\n",
      "Total params: 23,651\n",
      "Trainable params: 23,651\n",
      "Non-trainable params: 0\n",
      "_________________________________________________________________\n"
     ]
    }
   ],
   "source": [
    "model = Sequential()\n",
    "\n",
    "model.add(Dense(100, input_dim=x.shape[1], activation='relu',\n",
    "                kernel_initializer='random_normal'))\n",
    "model.add(Dense(100, activation='relu',\n",
    "                kernel_initializer='random_normal'))\n",
    "model.add(Dense(50, activation='relu', kernel_initializer='random_normal'))\n",
    "model.add(Dense(50, activation='relu', kernel_initializer='random_normal'))\n",
    "model.add(Dense(1, activation='sigmoid', kernel_initializer='random_normal'))\n",
    "\n",
    "model.compile(\n",
    "    loss='binary_crossentropy',\n",
    "    optimizer='adam',\n",
    "    metrics=[AUC(name='auc'), 'accuracy']\n",
    ")\n",
    "\n",
    "model.summary()"
   ],
   "metadata": {
    "collapsed": false,
    "ExecuteTime": {
     "end_time": "2024-08-07T12:07:05.989729900Z",
     "start_time": "2024-08-07T12:07:05.871529300Z"
    }
   },
   "id": "5490f0389b6854b7"
  },
  {
   "cell_type": "code",
   "execution_count": 154,
   "outputs": [
    {
     "name": "stdout",
     "output_type": "stream",
     "text": [
      "Epoch 1/100\n",
      "349/349 [==============================] - 7s 3ms/step - loss: 0.3585 - auc: 0.6701 - accuracy: 0.8773 - val_loss: 0.3503 - val_auc: 0.6772 - val_accuracy: 0.8812 - lr: 0.0100\n",
      "Epoch 2/100\n",
      "349/349 [==============================] - 1s 2ms/step - loss: 0.3462 - auc: 0.6994 - accuracy: 0.8774 - val_loss: 0.3491 - val_auc: 0.6839 - val_accuracy: 0.8812 - lr: 0.0100\n",
      "Epoch 3/100\n",
      "349/349 [==============================] - 1s 2ms/step - loss: 0.3426 - auc: 0.7082 - accuracy: 0.8774 - val_loss: 0.3431 - val_auc: 0.6861 - val_accuracy: 0.8812 - lr: 0.0100\n",
      "Epoch 4/100\n",
      "349/349 [==============================] - 1s 2ms/step - loss: 0.3414 - auc: 0.7124 - accuracy: 0.8774 - val_loss: 0.3546 - val_auc: 0.6774 - val_accuracy: 0.8812 - lr: 0.0100\n",
      "Epoch 5/100\n",
      "349/349 [==============================] - 1s 2ms/step - loss: 0.3382 - auc: 0.7225 - accuracy: 0.8774 - val_loss: 0.3480 - val_auc: 0.6757 - val_accuracy: 0.8812 - lr: 0.0100\n",
      "Epoch 6/100\n",
      "349/349 [==============================] - 1s 2ms/step - loss: 0.3311 - auc: 0.7405 - accuracy: 0.8773 - val_loss: 0.3463 - val_auc: 0.6803 - val_accuracy: 0.8811 - lr: 0.0050\n",
      "Epoch 7/100\n",
      "349/349 [==============================] - 1s 2ms/step - loss: 0.3281 - auc: 0.7492 - accuracy: 0.8775 - val_loss: 0.3526 - val_auc: 0.6847 - val_accuracy: 0.8805 - lr: 0.0050\n",
      "Epoch 8/100\n",
      "335/349 [===========================>..] - ETA: 0s - loss: 0.3265 - auc: 0.7532 - accuracy: 0.8782Restoring model weights from the end of the best epoch: 3.\n",
      "349/349 [==============================] - 1s 2ms/step - loss: 0.3263 - auc: 0.7535 - accuracy: 0.8782 - val_loss: 0.3496 - val_auc: 0.6831 - val_accuracy: 0.8811 - lr: 0.0050\n",
      "Epoch 8: early stopping\n"
     ]
    },
    {
     "data": {
      "text/plain": "<keras.callbacks.History at 0x1fc27fbb5e0>"
     },
     "execution_count": 154,
     "metadata": {},
     "output_type": "execute_result"
    }
   ],
   "source": [
    "model.fit(x_train, y_train, epochs=100, batch_size=64, validation_data=(x_test, y_test), callbacks=[earlystop, lr_scheduler])"
   ],
   "metadata": {
    "collapsed": false,
    "ExecuteTime": {
     "end_time": "2024-08-07T12:07:20.354628500Z",
     "start_time": "2024-08-07T12:07:07.240007900Z"
    }
   },
   "id": "69b724514303af20"
  },
  {
   "cell_type": "code",
   "execution_count": 155,
   "outputs": [
    {
     "name": "stdout",
     "output_type": "stream",
     "text": [
      "233/233 [==============================] - 0s 1ms/step - loss: 0.3431 - auc: 0.6861 - accuracy: 0.8812\n"
     ]
    },
    {
     "data": {
      "text/plain": "[0.34309011697769165, 0.6861143708229065, 0.8812214136123657]"
     },
     "execution_count": 155,
     "metadata": {},
     "output_type": "execute_result"
    }
   ],
   "source": [
    "model.evaluate(x_test, y_test)"
   ],
   "metadata": {
    "collapsed": false,
    "ExecuteTime": {
     "end_time": "2024-08-07T12:07:23.549710100Z",
     "start_time": "2024-08-07T12:07:23.120830200Z"
    }
   },
   "id": "a360d027ca4e7479"
  },
  {
   "cell_type": "code",
   "execution_count": 156,
   "outputs": [],
   "source": [
    "# Got better AUC with dynamic learning rate"
   ],
   "metadata": {
    "collapsed": false,
    "ExecuteTime": {
     "end_time": "2024-08-07T12:07:24.714035900Z",
     "start_time": "2024-08-07T12:07:24.690827100Z"
    }
   },
   "id": "7e894f10f612386b"
  },
  {
   "cell_type": "code",
   "execution_count": 157,
   "outputs": [
    {
     "name": "stdout",
     "output_type": "stream",
     "text": [
      "Epoch 1/1000\n",
      "697/697 - 1s - loss: 0.3396 - auc: 0.7173 - accuracy: 0.8774 - val_loss: 0.3458 - val_auc: 0.6804 - val_accuracy: 0.8812 - 1s/epoch - 2ms/step\n",
      "Epoch 2/1000\n",
      "697/697 - 1s - loss: 0.3362 - auc: 0.7278 - accuracy: 0.8773 - val_loss: 0.3453 - val_auc: 0.6820 - val_accuracy: 0.8812 - 1s/epoch - 2ms/step\n",
      "Epoch 3/1000\n",
      "697/697 - 1s - loss: 0.3338 - auc: 0.7332 - accuracy: 0.8771 - val_loss: 0.3457 - val_auc: 0.6814 - val_accuracy: 0.8803 - 1s/epoch - 1ms/step\n",
      "Epoch 4/1000\n",
      "697/697 - 1s - loss: 0.3322 - auc: 0.7394 - accuracy: 0.8772 - val_loss: 0.3496 - val_auc: 0.6823 - val_accuracy: 0.8808 - 1s/epoch - 1ms/step\n",
      "Epoch 5/1000\n",
      "697/697 - 1s - loss: 0.3282 - auc: 0.7483 - accuracy: 0.8776 - val_loss: 0.3506 - val_auc: 0.6727 - val_accuracy: 0.8796 - 1s/epoch - 2ms/step\n",
      "Epoch 6/1000\n",
      "Restoring model weights from the end of the best epoch: 1.\n",
      "697/697 - 1s - loss: 0.3254 - auc: 0.7542 - accuracy: 0.8785 - val_loss: 0.3477 - val_auc: 0.6821 - val_accuracy: 0.8789 - 1s/epoch - 1ms/step\n",
      "Epoch 6: early stopping\n",
      "233/233 [==============================] - 0s 950us/step\n",
      "Min Delta: 0.001, Test AUC: 0.6804367785610351\n",
      "Epoch 1/1000\n",
      "697/697 - 1s - loss: 0.3354 - auc: 0.7302 - accuracy: 0.8769 - val_loss: 0.3427 - val_auc: 0.6850 - val_accuracy: 0.8812 - 1s/epoch - 2ms/step\n",
      "Epoch 2/1000\n",
      "697/697 - 1s - loss: 0.3339 - auc: 0.7345 - accuracy: 0.8770 - val_loss: 0.3478 - val_auc: 0.6843 - val_accuracy: 0.8812 - 1s/epoch - 1ms/step\n",
      "Epoch 3/1000\n",
      "697/697 - 1s - loss: 0.3318 - auc: 0.7395 - accuracy: 0.8779 - val_loss: 0.3547 - val_auc: 0.6741 - val_accuracy: 0.8812 - 1s/epoch - 1ms/step\n",
      "Epoch 4/1000\n",
      "697/697 - 1s - loss: 0.3274 - auc: 0.7503 - accuracy: 0.8778 - val_loss: 0.3509 - val_auc: 0.6777 - val_accuracy: 0.8812 - 1s/epoch - 1ms/step\n",
      "Epoch 5/1000\n",
      "697/697 - 1s - loss: 0.3257 - auc: 0.7534 - accuracy: 0.8782 - val_loss: 0.3485 - val_auc: 0.6702 - val_accuracy: 0.8805 - 1s/epoch - 1ms/step\n",
      "Epoch 6/1000\n",
      "Restoring model weights from the end of the best epoch: 1.\n",
      "697/697 - 1s - loss: 0.3214 - auc: 0.7629 - accuracy: 0.8791 - val_loss: 0.3494 - val_auc: 0.6776 - val_accuracy: 0.8796 - 1s/epoch - 1ms/step\n",
      "Epoch 6: early stopping\n",
      "233/233 [==============================] - 0s 1ms/step\n",
      "Min Delta: 0.0001, Test AUC: 0.6851408748121932\n",
      "Epoch 1/1000\n",
      "697/697 - 1s - loss: 0.3322 - auc: 0.7378 - accuracy: 0.8776 - val_loss: 0.3454 - val_auc: 0.6872 - val_accuracy: 0.8796 - 1s/epoch - 2ms/step\n",
      "Epoch 2/1000\n",
      "697/697 - 1s - loss: 0.3304 - auc: 0.7423 - accuracy: 0.8777 - val_loss: 0.3429 - val_auc: 0.6909 - val_accuracy: 0.8815 - 1s/epoch - 2ms/step\n",
      "Epoch 3/1000\n",
      "697/697 - 1s - loss: 0.3278 - auc: 0.7480 - accuracy: 0.8781 - val_loss: 0.3474 - val_auc: 0.6746 - val_accuracy: 0.8810 - 1s/epoch - 1ms/step\n",
      "Epoch 4/1000\n",
      "697/697 - 1s - loss: 0.3244 - auc: 0.7551 - accuracy: 0.8785 - val_loss: 0.3593 - val_auc: 0.6777 - val_accuracy: 0.8793 - 1s/epoch - 2ms/step\n",
      "Epoch 5/1000\n",
      "697/697 - 1s - loss: 0.3219 - auc: 0.7595 - accuracy: 0.8810 - val_loss: 0.3535 - val_auc: 0.6767 - val_accuracy: 0.8757 - 1s/epoch - 1ms/step\n",
      "Epoch 6/1000\n",
      "697/697 - 1s - loss: 0.3190 - auc: 0.7667 - accuracy: 0.8815 - val_loss: 0.3601 - val_auc: 0.6812 - val_accuracy: 0.8797 - 1s/epoch - 1ms/step\n",
      "Epoch 7/1000\n",
      "Restoring model weights from the end of the best epoch: 2.\n",
      "697/697 - 1s - loss: 0.3145 - auc: 0.7752 - accuracy: 0.8822 - val_loss: 0.3609 - val_auc: 0.6715 - val_accuracy: 0.8752 - 1s/epoch - 1ms/step\n",
      "Epoch 7: early stopping\n",
      "233/233 [==============================] - 0s 1ms/step\n",
      "Min Delta: 1e-05, Test AUC: 0.6908662289591917\n",
      "Epoch 1/1000\n",
      "697/697 - 1s - loss: 0.3254 - auc: 0.7542 - accuracy: 0.8791 - val_loss: 0.3472 - val_auc: 0.6766 - val_accuracy: 0.8803 - 1s/epoch - 2ms/step\n",
      "Epoch 2/1000\n",
      "697/697 - 1s - loss: 0.3245 - auc: 0.7563 - accuracy: 0.8794 - val_loss: 0.3534 - val_auc: 0.6710 - val_accuracy: 0.8761 - 1s/epoch - 1ms/step\n",
      "Epoch 3/1000\n",
      "697/697 - 1s - loss: 0.3221 - auc: 0.7613 - accuracy: 0.8792 - val_loss: 0.3597 - val_auc: 0.6762 - val_accuracy: 0.8729 - 1s/epoch - 1ms/step\n",
      "Epoch 4/1000\n",
      "697/697 - 1s - loss: 0.3183 - auc: 0.7679 - accuracy: 0.8812 - val_loss: 0.3538 - val_auc: 0.6812 - val_accuracy: 0.8788 - 1s/epoch - 1ms/step\n",
      "Epoch 5/1000\n",
      "697/697 - 1s - loss: 0.3142 - auc: 0.7751 - accuracy: 0.8817 - val_loss: 0.3579 - val_auc: 0.6744 - val_accuracy: 0.8758 - 1s/epoch - 1ms/step\n",
      "Epoch 6/1000\n",
      "Restoring model weights from the end of the best epoch: 1.\n",
      "697/697 - 1s - loss: 0.3102 - auc: 0.7828 - accuracy: 0.8840 - val_loss: 0.3838 - val_auc: 0.6698 - val_accuracy: 0.8726 - 1s/epoch - 2ms/step\n",
      "Epoch 6: early stopping\n",
      "233/233 [==============================] - 0s 1ms/step\n",
      "Min Delta: 1e-06, Test AUC: 0.6766119235554537\n"
     ]
    }
   ],
   "source": [
    "# Early stopping hyperparameter tuning\n",
    "min_delta_values = [1e-3, 1e-4, 1e-5, 1e-6]\n",
    "\n",
    "for min_delta in min_delta_values:\n",
    "    monitor = EarlyStopping(monitor='val_loss', min_delta=min_delta, patience=5, verbose=1, mode='auto', restore_best_weights=True)\n",
    "    model.fit(x_train, y_train, validation_data=(x_test, y_test), callbacks=[monitor], verbose=2, epochs=1000)\n",
    "    test_predictions = model.predict(x_test)\n",
    "    test_auc = roc_auc_score(y_test, test_predictions)\n",
    "\n",
    "    print(f'Min Delta: {min_delta}, Test AUC: {test_auc}')\n",
    "\n"
   ],
   "metadata": {
    "collapsed": false,
    "ExecuteTime": {
     "end_time": "2024-08-07T12:07:56.630821200Z",
     "start_time": "2024-08-07T12:07:27.010697500Z"
    }
   },
   "id": "c05d71819268cdd4"
  },
  {
   "cell_type": "code",
   "execution_count": 161,
   "outputs": [
    {
     "name": "stdout",
     "output_type": "stream",
     "text": [
      "Model: \"sequential_41\"\n",
      "_________________________________________________________________\n",
      " Layer (type)                Output Shape              Param #   \n",
      "=================================================================\n",
      " dense_176 (Dense)           (None, 100)               5900      \n",
      "                                                                 \n",
      " dense_177 (Dense)           (None, 100)               10100     \n",
      "                                                                 \n",
      " dense_178 (Dense)           (None, 50)                5050      \n",
      "                                                                 \n",
      " dense_179 (Dense)           (None, 50)                2550      \n",
      "                                                                 \n",
      " dense_180 (Dense)           (None, 1)                 51        \n",
      "                                                                 \n",
      "=================================================================\n",
      "Total params: 23,651\n",
      "Trainable params: 23,651\n",
      "Non-trainable params: 0\n",
      "_________________________________________________________________\n"
     ]
    }
   ],
   "source": [
    "# Final model\n",
    "model = Sequential()\n",
    "\n",
    "model.add(Dense(100, input_dim=x.shape[1], activation='relu',\n",
    "                kernel_initializer='random_normal'))\n",
    "model.add(Dense(100, activation='relu',\n",
    "                kernel_initializer='random_normal'))\n",
    "model.add(Dense(50, activation='relu', kernel_initializer='random_normal'))\n",
    "model.add(Dense(50, activation='relu', kernel_initializer='random_normal'))\n",
    "model.add(Dense(1, activation='sigmoid', kernel_initializer='random_normal'))\n",
    "\n",
    "model.compile(\n",
    "    loss='binary_crossentropy',\n",
    "    optimizer='adam',\n",
    "    metrics=[AUC(name='auc'), 'accuracy']\n",
    ")\n",
    "\n",
    "earlystop = EarlyStopping(monitor='val_loss', min_delta=1e-5, patience=5, verbose=1, mode='auto', \n",
    "                          restore_best_weights=True)\n",
    "\n",
    "model.summary()"
   ],
   "metadata": {
    "collapsed": false,
    "ExecuteTime": {
     "end_time": "2024-08-07T12:09:04.171196300Z",
     "start_time": "2024-08-07T12:09:03.919802500Z"
    }
   },
   "id": "8490c909f9864ccc"
  },
  {
   "cell_type": "code",
   "execution_count": 162,
   "outputs": [
    {
     "name": "stdout",
     "output_type": "stream",
     "text": [
      "Epoch 1/100\n",
      "349/349 [==============================] - 2s 3ms/step - loss: 0.3604 - auc: 0.6656 - accuracy: 0.8752 - val_loss: 0.3495 - val_auc: 0.6697 - val_accuracy: 0.8812 - lr: 0.0100\n",
      "Epoch 2/100\n",
      "349/349 [==============================] - 1s 2ms/step - loss: 0.3482 - auc: 0.6921 - accuracy: 0.8774 - val_loss: 0.3476 - val_auc: 0.6756 - val_accuracy: 0.8812 - lr: 0.0100\n",
      "Epoch 3/100\n",
      "349/349 [==============================] - 1s 2ms/step - loss: 0.3439 - auc: 0.7056 - accuracy: 0.8774 - val_loss: 0.3458 - val_auc: 0.6791 - val_accuracy: 0.8812 - lr: 0.0100\n",
      "Epoch 4/100\n",
      "349/349 [==============================] - 1s 2ms/step - loss: 0.3413 - auc: 0.7125 - accuracy: 0.8774 - val_loss: 0.3483 - val_auc: 0.6709 - val_accuracy: 0.8812 - lr: 0.0100\n",
      "Epoch 5/100\n",
      "349/349 [==============================] - 1s 2ms/step - loss: 0.3411 - auc: 0.7131 - accuracy: 0.8773 - val_loss: 0.3446 - val_auc: 0.6789 - val_accuracy: 0.8812 - lr: 0.0100\n",
      "Epoch 6/100\n",
      "349/349 [==============================] - 1s 2ms/step - loss: 0.3333 - auc: 0.7359 - accuracy: 0.8770 - val_loss: 0.3495 - val_auc: 0.6831 - val_accuracy: 0.8812 - lr: 0.0050\n",
      "Epoch 7/100\n",
      "349/349 [==============================] - 1s 2ms/step - loss: 0.3306 - auc: 0.7412 - accuracy: 0.8773 - val_loss: 0.3467 - val_auc: 0.6802 - val_accuracy: 0.8805 - lr: 0.0050\n",
      "Epoch 8/100\n",
      "349/349 [==============================] - 1s 2ms/step - loss: 0.3273 - auc: 0.7493 - accuracy: 0.8774 - val_loss: 0.3480 - val_auc: 0.6799 - val_accuracy: 0.8808 - lr: 0.0050\n",
      "Epoch 9/100\n",
      "349/349 [==============================] - 1s 2ms/step - loss: 0.3248 - auc: 0.7542 - accuracy: 0.8787 - val_loss: 0.3516 - val_auc: 0.6817 - val_accuracy: 0.8776 - lr: 0.0050\n",
      "Epoch 10/100\n",
      "326/349 [===========================>..] - ETA: 0s - loss: 0.3212 - auc: 0.7637 - accuracy: 0.8792Restoring model weights from the end of the best epoch: 5.\n",
      "349/349 [==============================] - 1s 2ms/step - loss: 0.3209 - auc: 0.7633 - accuracy: 0.8796 - val_loss: 0.3519 - val_auc: 0.6782 - val_accuracy: 0.8810 - lr: 0.0050\n",
      "Epoch 10: early stopping\n"
     ]
    },
    {
     "data": {
      "text/plain": "<keras.callbacks.History at 0x1fc00daa740>"
     },
     "execution_count": 162,
     "metadata": {},
     "output_type": "execute_result"
    }
   ],
   "source": [
    "model.fit(x_train, y_train, epochs=100, batch_size=64, validation_data=(x_test, y_test), callbacks=[earlystop, lr_scheduler])"
   ],
   "metadata": {
    "collapsed": false,
    "ExecuteTime": {
     "end_time": "2024-08-07T12:09:15.109783100Z",
     "start_time": "2024-08-07T12:09:05.131021800Z"
    }
   },
   "id": "7577b63f3f2bda1c"
  },
  {
   "cell_type": "code",
   "execution_count": 163,
   "outputs": [
    {
     "name": "stdout",
     "output_type": "stream",
     "text": [
      "233/233 [==============================] - 0s 1ms/step - loss: 0.3446 - auc: 0.6789 - accuracy: 0.8812\n"
     ]
    },
    {
     "data": {
      "text/plain": "[0.3445519506931305, 0.6788502335548401, 0.8812214136123657]"
     },
     "execution_count": 163,
     "metadata": {},
     "output_type": "execute_result"
    }
   ],
   "source": [
    "model.evaluate(x_test, y_test)"
   ],
   "metadata": {
    "collapsed": false,
    "ExecuteTime": {
     "end_time": "2024-08-07T12:09:26.069741100Z",
     "start_time": "2024-08-07T12:09:25.641186900Z"
    }
   },
   "id": "79814b07dc73c4a1"
  },
  {
   "cell_type": "code",
   "execution_count": 164,
   "outputs": [
    {
     "data": {
      "text/plain": "   timedelta  n_tokens_title  n_tokens_content  n_unique_tokens  \\\n0        134              11               217         0.631579   \n1        415              11              1041         0.489423   \n2        625               9               486         0.599585   \n3        148              14               505         0.509018   \n4        294              14               274         0.620301   \n\n   n_non_stop_words  n_non_stop_unique_tokens  num_hrefs  num_self_hrefs  \\\n0               1.0                  0.818966          4               2   \n1               1.0                  0.700321         22               3   \n2               1.0                  0.727273          4               3   \n3               1.0                  0.718861          8               4   \n4               1.0                  0.726190          5               1   \n\n   num_imgs  num_videos  ...  min_positive_polarity  max_positive_polarity  \\\n0         2           0  ...               0.136364                    0.5   \n1         0          14  ...               0.050000                    1.0   \n2         1           0  ...               0.062500                    0.7   \n3         1           1  ...               0.100000                    1.0   \n4         1           0  ...               0.100000                    0.6   \n\n   avg_negative_polarity  min_negative_polarity  max_negative_polarity  \\\n0              -0.170370              -0.200000              -0.155556   \n1              -0.426268              -1.000000              -0.100000   \n2              -0.387821              -1.000000              -0.050000   \n3              -0.284722              -0.400000              -0.050000   \n4              -0.333333              -0.333333              -0.333333   \n\n   title_subjectivity  title_sentiment_polarity  abs_title_subjectivity  \\\n0            0.288889                 -0.155556                0.211111   \n1            0.975000                  0.300000                0.475000   \n2            0.000000                  0.000000                0.500000   \n3            0.000000                  0.000000                0.500000   \n4            0.000000                  0.000000                0.500000   \n\n   abs_title_sentiment_polarity  article_id  \n0                      0.155556           2  \n1                      0.300000           4  \n2                      0.000000          10  \n3                      0.000000          13  \n4                      0.000000          26  \n\n[5 rows x 60 columns]",
      "text/html": "<div>\n<style scoped>\n    .dataframe tbody tr th:only-of-type {\n        vertical-align: middle;\n    }\n\n    .dataframe tbody tr th {\n        vertical-align: top;\n    }\n\n    .dataframe thead th {\n        text-align: right;\n    }\n</style>\n<table border=\"1\" class=\"dataframe\">\n  <thead>\n    <tr style=\"text-align: right;\">\n      <th></th>\n      <th>timedelta</th>\n      <th>n_tokens_title</th>\n      <th>n_tokens_content</th>\n      <th>n_unique_tokens</th>\n      <th>n_non_stop_words</th>\n      <th>n_non_stop_unique_tokens</th>\n      <th>num_hrefs</th>\n      <th>num_self_hrefs</th>\n      <th>num_imgs</th>\n      <th>num_videos</th>\n      <th>...</th>\n      <th>min_positive_polarity</th>\n      <th>max_positive_polarity</th>\n      <th>avg_negative_polarity</th>\n      <th>min_negative_polarity</th>\n      <th>max_negative_polarity</th>\n      <th>title_subjectivity</th>\n      <th>title_sentiment_polarity</th>\n      <th>abs_title_subjectivity</th>\n      <th>abs_title_sentiment_polarity</th>\n      <th>article_id</th>\n    </tr>\n  </thead>\n  <tbody>\n    <tr>\n      <th>0</th>\n      <td>134</td>\n      <td>11</td>\n      <td>217</td>\n      <td>0.631579</td>\n      <td>1.0</td>\n      <td>0.818966</td>\n      <td>4</td>\n      <td>2</td>\n      <td>2</td>\n      <td>0</td>\n      <td>...</td>\n      <td>0.136364</td>\n      <td>0.5</td>\n      <td>-0.170370</td>\n      <td>-0.200000</td>\n      <td>-0.155556</td>\n      <td>0.288889</td>\n      <td>-0.155556</td>\n      <td>0.211111</td>\n      <td>0.155556</td>\n      <td>2</td>\n    </tr>\n    <tr>\n      <th>1</th>\n      <td>415</td>\n      <td>11</td>\n      <td>1041</td>\n      <td>0.489423</td>\n      <td>1.0</td>\n      <td>0.700321</td>\n      <td>22</td>\n      <td>3</td>\n      <td>0</td>\n      <td>14</td>\n      <td>...</td>\n      <td>0.050000</td>\n      <td>1.0</td>\n      <td>-0.426268</td>\n      <td>-1.000000</td>\n      <td>-0.100000</td>\n      <td>0.975000</td>\n      <td>0.300000</td>\n      <td>0.475000</td>\n      <td>0.300000</td>\n      <td>4</td>\n    </tr>\n    <tr>\n      <th>2</th>\n      <td>625</td>\n      <td>9</td>\n      <td>486</td>\n      <td>0.599585</td>\n      <td>1.0</td>\n      <td>0.727273</td>\n      <td>4</td>\n      <td>3</td>\n      <td>1</td>\n      <td>0</td>\n      <td>...</td>\n      <td>0.062500</td>\n      <td>0.7</td>\n      <td>-0.387821</td>\n      <td>-1.000000</td>\n      <td>-0.050000</td>\n      <td>0.000000</td>\n      <td>0.000000</td>\n      <td>0.500000</td>\n      <td>0.000000</td>\n      <td>10</td>\n    </tr>\n    <tr>\n      <th>3</th>\n      <td>148</td>\n      <td>14</td>\n      <td>505</td>\n      <td>0.509018</td>\n      <td>1.0</td>\n      <td>0.718861</td>\n      <td>8</td>\n      <td>4</td>\n      <td>1</td>\n      <td>1</td>\n      <td>...</td>\n      <td>0.100000</td>\n      <td>1.0</td>\n      <td>-0.284722</td>\n      <td>-0.400000</td>\n      <td>-0.050000</td>\n      <td>0.000000</td>\n      <td>0.000000</td>\n      <td>0.500000</td>\n      <td>0.000000</td>\n      <td>13</td>\n    </tr>\n    <tr>\n      <th>4</th>\n      <td>294</td>\n      <td>14</td>\n      <td>274</td>\n      <td>0.620301</td>\n      <td>1.0</td>\n      <td>0.726190</td>\n      <td>5</td>\n      <td>1</td>\n      <td>1</td>\n      <td>0</td>\n      <td>...</td>\n      <td>0.100000</td>\n      <td>0.6</td>\n      <td>-0.333333</td>\n      <td>-0.333333</td>\n      <td>-0.333333</td>\n      <td>0.000000</td>\n      <td>0.000000</td>\n      <td>0.500000</td>\n      <td>0.000000</td>\n      <td>26</td>\n    </tr>\n  </tbody>\n</table>\n<p>5 rows × 60 columns</p>\n</div>"
     },
     "execution_count": 164,
     "metadata": {},
     "output_type": "execute_result"
    }
   ],
   "source": [
    "# Importing the test data\n",
    "test_df = pd.read_csv(\"../ML/Fakt kurzus/Beadando/test.csv\")\n",
    "test_df.head()"
   ],
   "metadata": {
    "collapsed": false,
    "ExecuteTime": {
     "end_time": "2024-08-07T12:09:30.411951300Z",
     "start_time": "2024-08-07T12:09:30.250803900Z"
    }
   },
   "id": "a009e1ec01112e0"
  },
  {
   "cell_type": "code",
   "execution_count": 165,
   "outputs": [],
   "source": [
    "test_pred_df = test_df.drop('article_id', axis=1).drop('timedelta', axis=1)\n",
    "columns_to_standardize = ['n_tokens_title', 'n_tokens_content', 'n_unique_tokens', 'n_non_stop_words',\n",
    "                            'n_non_stop_unique_tokens', 'num_hrefs', 'num_self_hrefs', 'num_imgs', 'num_videos',\n",
    "                            'average_token_length', 'num_keywords', 'kw_min_min', 'kw_max_min', 'kw_avg_min',\n",
    "                            'kw_min_max', 'kw_max_max', 'kw_avg_max', 'kw_min_avg', 'kw_max_avg', 'kw_avg_avg',\n",
    "                            'self_reference_min_shares', 'self_reference_max_shares', 'self_reference_avg_sharess',\n",
    "                            'LDA_00', 'LDA_01', 'LDA_02', 'LDA_03', 'LDA_04', 'global_subjectivity',\n",
    "                            'global_sentiment_polarity', 'global_rate_positive_words', 'global_rate_negative_words',\n",
    "                            'rate_positive_words', 'rate_negative_words', 'avg_positive_polarity',\n",
    "                            'min_positive_polarity', 'max_positive_polarity', 'avg_negative_polarity',\n",
    "                            'min_negative_polarity', 'max_negative_polarity', 'title_subjectivity',\n",
    "                            'title_sentiment_polarity', 'abs_title_subjectivity', 'abs_title_sentiment_polarity']\n",
    "scaler = StandardScaler()\n",
    "test_pred_df[columns_to_standardize] = scaler.fit_transform(test_pred_df[columns_to_standardize])"
   ],
   "metadata": {
    "collapsed": false,
    "ExecuteTime": {
     "end_time": "2024-08-07T12:09:33.521692500Z",
     "start_time": "2024-08-07T12:09:33.400670900Z"
    }
   },
   "id": "fa54fa1a52881fbd"
  },
  {
   "cell_type": "code",
   "execution_count": 166,
   "outputs": [
    {
     "name": "stdout",
     "output_type": "stream",
     "text": [
      "310/310 [==============================] - 0s 1ms/step\n"
     ]
    },
    {
     "data": {
      "text/plain": "array([[0.1828552 ],\n       [0.2500904 ],\n       [0.18938248],\n       ...,\n       [0.12706983],\n       [0.24060792],\n       [0.06000388]], dtype=float32)"
     },
     "execution_count": 166,
     "metadata": {},
     "output_type": "execute_result"
    }
   ],
   "source": [
    "pred = model.predict(test_pred_df)\n",
    "pred"
   ],
   "metadata": {
    "collapsed": false,
    "ExecuteTime": {
     "end_time": "2024-08-07T12:09:35.831289400Z",
     "start_time": "2024-08-07T12:09:35.170868400Z"
    }
   },
   "id": "61c2c599711042d1"
  },
  {
   "cell_type": "code",
   "execution_count": 167,
   "outputs": [
    {
     "data": {
      "text/plain": "      article_id     score\n0              2  0.182855\n1              4  0.250090\n2             10  0.189382\n3             13  0.194907\n4             26  0.029879\n...          ...       ...\n9906       39630  0.192970\n9907       39634  0.056010\n9908       39638  0.127070\n9909       39640  0.240608\n9910       39644  0.060004\n\n[9911 rows x 2 columns]",
      "text/html": "<div>\n<style scoped>\n    .dataframe tbody tr th:only-of-type {\n        vertical-align: middle;\n    }\n\n    .dataframe tbody tr th {\n        vertical-align: top;\n    }\n\n    .dataframe thead th {\n        text-align: right;\n    }\n</style>\n<table border=\"1\" class=\"dataframe\">\n  <thead>\n    <tr style=\"text-align: right;\">\n      <th></th>\n      <th>article_id</th>\n      <th>score</th>\n    </tr>\n  </thead>\n  <tbody>\n    <tr>\n      <th>0</th>\n      <td>2</td>\n      <td>0.182855</td>\n    </tr>\n    <tr>\n      <th>1</th>\n      <td>4</td>\n      <td>0.250090</td>\n    </tr>\n    <tr>\n      <th>2</th>\n      <td>10</td>\n      <td>0.189382</td>\n    </tr>\n    <tr>\n      <th>3</th>\n      <td>13</td>\n      <td>0.194907</td>\n    </tr>\n    <tr>\n      <th>4</th>\n      <td>26</td>\n      <td>0.029879</td>\n    </tr>\n    <tr>\n      <th>...</th>\n      <td>...</td>\n      <td>...</td>\n    </tr>\n    <tr>\n      <th>9906</th>\n      <td>39630</td>\n      <td>0.192970</td>\n    </tr>\n    <tr>\n      <th>9907</th>\n      <td>39634</td>\n      <td>0.056010</td>\n    </tr>\n    <tr>\n      <th>9908</th>\n      <td>39638</td>\n      <td>0.127070</td>\n    </tr>\n    <tr>\n      <th>9909</th>\n      <td>39640</td>\n      <td>0.240608</td>\n    </tr>\n    <tr>\n      <th>9910</th>\n      <td>39644</td>\n      <td>0.060004</td>\n    </tr>\n  </tbody>\n</table>\n<p>9911 rows × 2 columns</p>\n</div>"
     },
     "execution_count": 167,
     "metadata": {},
     "output_type": "execute_result"
    }
   ],
   "source": [
    "# Save the predictions\n",
    "submission = test_df\n",
    "# drop all columns except article_id which is the last column\n",
    "submission = submission.drop(submission.columns.difference(['article_id']), axis=1)\n",
    "submission['score'] = pred\n",
    "submission"
   ],
   "metadata": {
    "collapsed": false,
    "ExecuteTime": {
     "end_time": "2024-08-07T12:09:37.920154300Z",
     "start_time": "2024-08-07T12:09:37.901279300Z"
    }
   },
   "id": "52070e467eafcbb"
  },
  {
   "cell_type": "code",
   "execution_count": 169,
   "outputs": [],
   "source": [
    "submission.to_csv('../Case studies/News popularity/submission.csv', index=False)"
   ],
   "metadata": {
    "collapsed": false,
    "ExecuteTime": {
     "end_time": "2024-08-07T12:10:16.920869400Z",
     "start_time": "2024-08-07T12:10:16.850896600Z"
    }
   },
   "id": "84ddacd10be147ac"
  }
 ],
 "metadata": {
  "kernelspec": {
   "display_name": "Python 3",
   "language": "python",
   "name": "python3"
  },
  "language_info": {
   "codemirror_mode": {
    "name": "ipython",
    "version": 2
   },
   "file_extension": ".py",
   "mimetype": "text/x-python",
   "name": "python",
   "nbconvert_exporter": "python",
   "pygments_lexer": "ipython2",
   "version": "2.7.6"
  }
 },
 "nbformat": 4,
 "nbformat_minor": 5
}
